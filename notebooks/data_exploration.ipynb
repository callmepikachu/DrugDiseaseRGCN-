{
 "cells": [
  {
   "cell_type": "markdown",
   "metadata": {},
   "source": [
    "# PrimeKG数据探索\n",
    "\n",
    "本notebook用于探索PrimeKG数据集，特别是药物-疾病关系。"
   ]
  },
  {
   "cell_type": "code",
   "execution_count": null,
   "metadata": {},
   "outputs": [],
   "source": [
    "import sys\n",
    "sys.path.append('../src')\n",
    "\n",
    "import pandas as pd\n",
    "import numpy as np\n",
    "import matplotlib.pyplot as plt\n",
    "import seaborn as sns\n",
    "import plotly.express as px\n",
    "import plotly.graph_objects as go\n",
    "from plotly.subplots import make_subplots\n",
    "\n",
    "from data_loader import PrimeKGDataLoader\n",
    "\n",
    "# 设置样式\n",
    "plt.style.use('seaborn-v0_8')\n",
    "sns.set_palette(\"husl\")\n",
    "\n",
    "%matplotlib inline"
   ]
  },
  {
   "cell_type": "markdown",
   "metadata": {},
   "source": [
    "## 1. 加载数据"
   ]
  },
  {
   "cell_type": "code",
   "execution_count": null,
   "metadata": {},
   "outputs": [],
   "source": [
    "# 初始化数据加载器\n",
    "data_loader = PrimeKGDataLoader(\"../data\")\n",
    "\n",
    "# 加载原始数据\n",
    "df = data_loader.load_raw_data()\n",
    "\n",
    "print(f\"数据形状: {df.shape}\")\n",
    "print(f\"列名: {df.columns.tolist()}\")\n",
    "df.head()"
   ]
  },
  {
   "cell_type": "markdown",
   "metadata": {},
   "source": [
    "## 2. 数据概览"
   ]
  },
  {
   "cell_type": "code",
   "execution_count": null,
   "metadata": {},
   "outputs": [],
   "source": [
    "# 基本统计信息\n",
    "print(\"=== 基本统计信息 ===\")\n",
    "print(f\"总边数: {len(df):,}\")\n",
    "print(f\"唯一节点数: {len(set(df['x_id']) | set(df['y_id'])):,}\")\n",
    "print(f\"节点类型数: {len(set(df['x_type']) | set(df['y_type']))}\")\n",
    "print(f\"关系类型数: {df['display_relation'].nunique()}\")\n",
    "\n",
    "print(\"\\n=== 节点类型分布 ===\")\n",
    "node_types = list(df['x_type']) + list(df['y_type'])\n",
    "node_type_counts = pd.Series(node_types).value_counts()\n",
    "print(node_type_counts)\n",
    "\n",
    "print(\"\\n=== 关系类型分布 (Top 20) ===\")\n",
    "relation_counts = df['display_relation'].value_counts().head(20)\n",
    "print(relation_counts)"
   ]
  },
  {
   "cell_type": "markdown",
   "metadata": {},
   "source": [
    "## 3. 药物-疾病关系分析"
   ]
  },
  {
   "cell_type": "code",
   "execution_count": null,
   "metadata": {},
   "outputs": [],
   "source": [
    "# 筛选药物-疾病关系\n",
    "drug_disease_df = data_loader.filter_drug_disease_relations(df)\n",
    "\n",
    "print(f\"药物-疾病关系数量: {len(drug_disease_df):,}\")\n",
    "print(f\"占总关系的比例: {len(drug_disease_df)/len(df)*100:.2f}%\")\n",
    "\n",
    "# 药物-疾病关系类型分布\n",
    "drug_disease_relations = drug_disease_df['display_relation'].value_counts()\n",
    "print(\"\\n药物-疾病关系类型:\")\n",
    "print(drug_disease_relations)"
   ]
  },
  {
   "cell_type": "code",
   "execution_count": null,
   "metadata": {},
   "outputs": [],
   "source": [
    "# 可视化药物-疾病关系类型分布\n",
    "fig, (ax1, ax2) = plt.subplots(1, 2, figsize=(15, 6))\n",
    "\n",
    "# 饼图\n",
    "ax1.pie(drug_disease_relations.values, labels=drug_disease_relations.index, autopct='%1.1f%%')\n",
    "ax1.set_title('药物-疾病关系类型分布')\n",
    "\n",
    "# 柱状图\n",
    "drug_disease_relations.plot(kind='bar', ax=ax2)\n",
    "ax2.set_title('药物-疾病关系类型计数')\n",
    "ax2.set_xlabel('关系类型')\n",
    "ax2.set_ylabel('数量')\n",
    "ax2.tick_params(axis='x', rotation=45)\n",
    "\n",
    "plt.tight_layout()\n",
    "plt.show()"
   ]
  },
  {
   "cell_type": "markdown",
   "metadata": {},
   "source": [
    "## 4. 节点度分布分析"
   ]
  },
  {
   "cell_type": "code",
   "execution_count": null,
   "metadata": {},
   "outputs": [],
   "source": [
    "# 计算节点度\n",
    "def calculate_node_degrees(df):\n",
    "    \"\"\"计算节点度分布\"\"\"\n",
    "    # 统计每个节点的出度和入度\n",
    "    out_degrees = df.groupby(['x_id', 'x_type']).size().reset_index(name='out_degree')\n",
    "    in_degrees = df.groupby(['y_id', 'y_type']).size().reset_index(name='in_degree')\n",
    "    \n",
    "    # 重命名列以便合并\n",
    "    out_degrees.columns = ['node_id', 'node_type', 'out_degree']\n",
    "    in_degrees.columns = ['node_id', 'node_type', 'in_degree']\n",
    "    \n",
    "    # 合并出度和入度\n",
    "    degrees = pd.merge(out_degrees, in_degrees, on=['node_id', 'node_type'], how='outer')\n",
    "    degrees = degrees.fillna(0)\n",
    "    degrees['total_degree'] = degrees['out_degree'] + degrees['in_degree']\n",
    "    \n",
    "    return degrees\n",
    "\n",
    "# 计算药物-疾病网络的节点度\n",
    "drug_disease_degrees = calculate_node_degrees(drug_disease_df)\n",
    "\n",
    "print(\"节点度统计:\")\n",
    "print(drug_disease_degrees['total_degree'].describe())\n",
    "\n",
    "# 按节点类型分组统计\n",
    "print(\"\\n按节点类型的度分布:\")\n",
    "degree_by_type = drug_disease_degrees.groupby('node_type')['total_degree'].agg(['count', 'mean', 'std', 'max'])\n",
    "print(degree_by_type)"
   ]
  },
  {
   "cell_type": "code",
   "execution_count": null,
   "metadata": {},
   "outputs": [],
   "source": [
    "# 可视化度分布\n",
    "fig, axes = plt.subplots(2, 2, figsize=(15, 12))\n",
    "\n",
    "# 总体度分布\n",
    "axes[0, 0].hist(drug_disease_degrees['total_degree'], bins=50, alpha=0.7)\n",
    "axes[0, 0].set_title('总体度分布')\n",
    "axes[0, 0].set_xlabel('度')\n",
    "axes[0, 0].set_ylabel('频次')\n",
    "axes[0, 0].set_yscale('log')\n",
    "\n",
    "# 对数度分布\n",
    "axes[0, 1].hist(np.log10(drug_disease_degrees['total_degree'] + 1), bins=50, alpha=0.7)\n",
    "axes[0, 1].set_title('对数度分布')\n",
    "axes[0, 1].set_xlabel('log10(度 + 1)')\n",
    "axes[0, 1].set_ylabel('频次')\n",
    "\n",
    "# 按节点类型的度分布\n",
    "for i, node_type in enumerate(['drug', 'disease']):\n",
    "    if node_type in drug_disease_degrees['node_type'].values:\n",
    "        subset = drug_disease_degrees[drug_disease_degrees['node_type'] == node_type]\n",
    "        axes[1, i].hist(subset['total_degree'], bins=30, alpha=0.7, label=node_type)\n",
    "        axes[1, i].set_title(f'{node_type.capitalize()} 度分布')\n",
    "        axes[1, i].set_xlabel('度')\n",
    "        axes[1, i].set_ylabel('频次')\n",
    "        axes[1, i].legend()\n",
    "\n",
    "plt.tight_layout()\n",
    "plt.show()"
   ]
  },
  {
   "cell_type": "markdown",
   "metadata": {},
   "source": [
    "## 5. 高度节点分析"
   ]
  },
  {
   "cell_type": "code",
   "execution_count": null,
   "metadata": {},
   "outputs": [],
   "source": [
    "# 找出度最高的节点\n",
    "top_nodes = drug_disease_degrees.nlargest(20, 'total_degree')\n",
    "\n",
    "print(\"度最高的20个节点:\")\n",
    "print(top_nodes[['node_id', 'node_type', 'total_degree']])\n",
    "\n",
    "# 分别查看药物和疾病的高度节点\n",
    "print(\"\\n度最高的10个药物:\")\n",
    "top_drugs = drug_disease_degrees[drug_disease_degrees['node_type'] == 'drug'].nlargest(10, 'total_degree')\n",
    "print(top_drugs[['node_id', 'total_degree']])\n",
    "\n",
    "print(\"\\n度最高的10个疾病:\")\n",
    "top_diseases = drug_disease_degrees[drug_disease_degrees['node_type'] == 'disease'].nlargest(10, 'total_degree')\n",
    "print(top_diseases[['node_id', 'total_degree']])"
   ]
  },
  {
   "cell_type": "markdown",
   "metadata": {},
   "source": [
    "## 6. 关系网络可视化"
   ]
  },
  {
   "cell_type": "code",
   "execution_count": null,
   "metadata": {},
   "outputs": [],
   "source": [
    "# 创建交互式可视化\n",
    "import plotly.graph_objects as go\n",
    "import networkx as nx\n",
    "\n",
    "# 创建一个小的子图进行可视化（选择度最高的节点）\n",
    "top_50_nodes = set(drug_disease_degrees.nlargest(50, 'total_degree')['node_id'])\n",
    "\n",
    "# 筛选包含这些节点的边\n",
    "subset_df = drug_disease_df[\n",
    "    (drug_disease_df['x_id'].isin(top_50_nodes)) | \n",
    "    (drug_disease_df['y_id'].isin(top_50_nodes))\n",
    "]\n",
    "\n",
    "print(f\"子图包含 {len(subset_df)} 条边\")\n",
    "\n",
    "# 创建NetworkX图\n",
    "G = nx.Graph()\n",
    "\n",
    "for _, row in subset_df.iterrows():\n",
    "    G.add_edge(\n",
    "        row['x_id'], row['y_id'],\n",
    "        relation=row['display_relation'],\n",
    "        x_type=row['x_type'],\n",
    "        y_type=row['y_type']\n",
    "    )\n",
    "\n",
    "print(f\"图包含 {G.number_of_nodes()} 个节点和 {G.number_of_edges()} 条边\")"
   ]
  },
  {
   "cell_type": "code",
   "execution_count": null,
   "metadata": {},
   "outputs": [],
   "source": [
    "# 使用spring layout布局\n",
    "pos = nx.spring_layout(G, k=1, iterations=50)\n",
    "\n",
    "# 准备节点数据\n",
    "node_x = []\n",
    "node_y = []\n",
    "node_text = []\n",
    "node_color = []\n",
    "\n",
    "for node in G.nodes():\n",
    "    x, y = pos[node]\n",
    "    node_x.append(x)\n",
    "    node_y.append(y)\n",
    "    \n",
    "    # 确定节点类型\n",
    "    node_type = 'unknown'\n",
    "    for _, row in subset_df.iterrows():\n",
    "        if row['x_id'] == node:\n",
    "            node_type = row['x_type']\n",
    "            break\n",
    "        elif row['y_id'] == node:\n",
    "            node_type = row['y_type']\n",
    "            break\n",
    "    \n",
    "    node_text.append(f\"{node}<br>类型: {node_type}<br>度: {G.degree(node)}\")\n",
    "    \n",
    "    # 根据类型设置颜色\n",
    "    if node_type == 'drug':\n",
    "        node_color.append('red')\n",
    "    elif node_type == 'disease':\n",
    "        node_color.append('blue')\n",
    "    else:\n",
    "        node_color.append('gray')\n",
    "\n",
    "# 准备边数据\n",
    "edge_x = []\n",
    "edge_y = []\n",
    "\n",
    "for edge in G.edges():\n",
    "    x0, y0 = pos[edge[0]]\n",
    "    x1, y1 = pos[edge[1]]\n",
    "    edge_x.extend([x0, x1, None])\n",
    "    edge_y.extend([y0, y1, None])\n",
    "\n",
    "# 创建图形\n",
    "fig = go.Figure()\n",
    "\n",
    "# 添加边\n",
    "fig.add_trace(go.Scatter(\n",
    "    x=edge_x, y=edge_y,\n",
    "    line=dict(width=0.5, color='#888'),\n",
    "    hoverinfo='none',\n",
    "    mode='lines'\n",
    "))\n",
    "\n",
    "# 添加节点\n",
    "fig.add_trace(go.Scatter(\n",
    "    x=node_x, y=node_y,\n",
    "    mode='markers',\n",
    "    hoverinfo='text',\n",
    "    text=node_text,\n",
    "    marker=dict(\n",
    "        size=10,\n",
    "        color=node_color,\n",
    "        line=dict(width=2, color='white')\n",
    "    )\n",
    "))\n",
    "\n",
    "fig.update_layout(\n",
    "    title='药物-疾病关系网络 (Top 50 高度节点)',\n",
    "    titlefont_size=16,\n",
    "    showlegend=False,\n",
    "    hovermode='closest',\n",
    "    margin=dict(b=20,l=5,r=5,t=40),\n",
    "    annotations=[\n",
    "        dict(\n",
    "            text=\"红色: 药物, 蓝色: 疾病\",\n",
    "            showarrow=False,\n",
    "            xref=\"paper\", yref=\"paper\",\n",
    "            x=0.005, y=-0.002,\n",
    "            xanchor=\"left\", yanchor=\"bottom\",\n",
    "            font=dict(size=12)\n",
    "        )\n",
    "    ],\n",
    "    xaxis=dict(showgrid=False, zeroline=False, showticklabels=False),\n",
    "    yaxis=dict(showgrid=False, zeroline=False, showticklabels=False)\n",
    ")\n",
    "\n",
    "fig.show()"
   ]
  },
  {
   "cell_type": "markdown",
   "metadata": {},
   "source": [
    "## 7. 数据质量分析"
   ]
  },
  {
   "cell_type": "code",
   "execution_count": null,
   "metadata": {},
   "outputs": [],
   "source": [
    "# 检查缺失值\n",
    "print(\"=== 缺失值检查 ===\")\n",
    "print(drug_disease_df.isnull().sum())\n",
    "\n",
    "# 检查重复边\n",
    "print(\"\\n=== 重复边检查 ===\")\n",
    "duplicates = drug_disease_df.duplicated(subset=['x_id', 'y_id', 'display_relation'])\n",
    "print(f\"重复边数量: {duplicates.sum()}\")\n",
    "\n",
    "# 检查自环\n",
    "print(\"\\n=== 自环检查 ===\")\n",
    "self_loops = drug_disease_df[drug_disease_df['x_id'] == drug_disease_df['y_id']]\n",
    "print(f\"自环数量: {len(self_loops)}\")\n",
    "\n",
    "# 数据完整性\n",
    "print(\"\\n=== 数据完整性 ===\")\n",
    "print(f\"唯一药物数量: {drug_disease_df[drug_disease_df['x_type'] == 'drug']['x_id'].nunique() + drug_disease_df[drug_disease_df['y_type'] == 'drug']['y_id'].nunique()}\")\n",
    "print(f\"唯一疾病数量: {drug_disease_df[drug_disease_df['x_type'] == 'disease']['x_id'].nunique() + drug_disease_df[drug_disease_df['y_type'] == 'disease']['y_id'].nunique()}\")"
   ]
  },
  {
   "cell_type": "markdown",
   "metadata": {},
   "source": [
    "## 8. 总结\n",
    "\n",
    "通过以上分析，我们可以得出以下结论：\n",
    "\n",
    "1. **数据规模**: PrimeKG是一个大规模的生物医学知识图谱\n",
    "2. **药物-疾病关系**: 包含多种类型的药物-疾病关系\n",
    "3. **网络特性**: 具有典型的复杂网络特征，如度分布的长尾特性\n",
    "4. **数据质量**: 数据质量较高，缺失值和重复值较少\n",
    "\n",
    "这些特征使得PrimeKG非常适合用于药物-疾病关系预测任务。"
   ]
  }
 ],
 "metadata": {
  "kernelspec": {
   "display_name": "Python 3",
   "language": "python",
   "name": "python3"
  },
  "language_info": {
   "codemirror_mode": {
    "name": "ipython",
    "version": 3
   },
   "file_extension": ".py",
   "mimetype": "text/x-python",
   "name": "python",
   "nbconvert_exporter": "python",
   "pygments_lexer": "ipython3",
   "version": "3.8.0"
  }
 },
 "nbformat": 4,
 "nbformat_minor": 4
}
